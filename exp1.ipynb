{
  "nbformat": 4,
  "nbformat_minor": 0,
  "metadata": {
    "colab": {
      "provenance": []
    },
    "kernelspec": {
      "name": "python3",
      "display_name": "Python 3"
    },
    "language_info": {
      "name": "python"
    }
  },
  "cells": [
    {
      "cell_type": "code",
      "execution_count": null,
      "metadata": {
        "colab": {
          "base_uri": "https://localhost:8080/"
        },
        "id": "7rBu8DQ014zt",
        "outputId": "6f3f9ef9-ef3e-4070-e4bd-42fbe74aaeac"
      },
      "outputs": [
        {
          "output_type": "stream",
          "name": "stdout",
          "text": [
            "Looking in indexes: https://pypi.org/simple, https://us-python.pkg.dev/colab-wheels/public/simple/\n",
            "Collecting pybbn\n",
            "  Downloading pybbn-3.2.3.tar.gz (36 kB)\n",
            "  Preparing metadata (setup.py) ... \u001b[?25l\u001b[?25hdone\n",
            "Requirement already satisfied: numpy in /usr/local/lib/python3.9/dist-packages (from pybbn) (1.22.4)\n",
            "Requirement already satisfied: scipy in /usr/local/lib/python3.9/dist-packages (from pybbn) (1.10.1)\n",
            "Requirement already satisfied: networkx in /usr/local/lib/python3.9/dist-packages (from pybbn) (3.0)\n",
            "Requirement already satisfied: pandas in /usr/local/lib/python3.9/dist-packages (from pybbn) (1.4.4)\n",
            "Requirement already satisfied: python-dateutil>=2.8.1 in /usr/local/lib/python3.9/dist-packages (from pandas->pybbn) (2.8.2)\n",
            "Requirement already satisfied: pytz>=2020.1 in /usr/local/lib/python3.9/dist-packages (from pandas->pybbn) (2022.7.1)\n",
            "Requirement already satisfied: six>=1.5 in /usr/local/lib/python3.9/dist-packages (from python-dateutil>=2.8.1->pandas->pybbn) (1.16.0)\n",
            "Building wheels for collected packages: pybbn\n",
            "  Building wheel for pybbn (setup.py) ... \u001b[?25l\u001b[?25hdone\n",
            "  Created wheel for pybbn: filename=pybbn-3.2.3-py3-none-any.whl size=40391 sha256=33eac90636d20017668c6072a3a4fce735c453ef2a913105705ec89977e766c2\n",
            "  Stored in directory: /root/.cache/pip/wheels/52/aa/29/604a0a26abba1522c308e6bae4a61f3b29f85240b50843d604\n",
            "Successfully built pybbn\n",
            "Installing collected packages: pybbn\n",
            "Successfully installed pybbn-3.2.3\n"
          ]
        }
      ],
      "source": [
        "!pip install pybbn"
      ]
    },
    {
      "cell_type": "code",
      "source": [
        "import pandas as pd\n",
        "import networkx as nx\n",
        "import matplotlib.pyplot as plt\n",
        "# for creating Bayesian Belief Networks(BBN)\n",
        "from pybbn.graph.dag import Bbn\n",
        "from pybbn.graph.edge import Edge,EdgeType\n",
        "from pybbn.graph.jointree import EvidenceBuilder\n",
        "from pybbn.graph.node import BbnNode\n",
        "from pybbn.graph.variable import Variable\n",
        "from pybbn.pptc.inferencecontroller import InferenceController\n",
        "# set pandas options to display columns\n",
        "pd.options.display.max_columns=0"
      ],
      "metadata": {
        "id": "qZbEXoEg3UKF"
      },
      "execution_count": null,
      "outputs": []
    },
    {
      "cell_type": "code",
      "source": [
        "# Read in the weather data csv\n",
        "df=pd.read_csv(\"weatherAUS.csv\",encoding='utf-8')\n",
        "\n",
        "# drop records where target RainTomorrw=NaN\n",
        "df=df[pd.isnull(df['RainTomorrow'])==False]\n",
        "#for other columns with missing values, fill them in with column mean\n",
        "df=df.fillna(df.mean())\n",
        "\n",
        "df['WindGustSpeedCat']=df['WindGustSpeed'].apply(lambda x: '0.<=40' if x<=40 else\n",
        "                                                              '1.40-50' if 40<x<=50 else '2.>50')\n",
        "df['Humidity9amCat']=df['Humidity9am'].apply(lambda x: '1.>60' if x>60 else '0.<=60')\n",
        "df['Humidity3pmCat']=df['Humidity3pm'].apply(lambda x: '1.>60' if x>60 else '0.<=60')\n",
        "\n",
        "print(df)"
      ],
      "metadata": {
        "colab": {
          "base_uri": "https://localhost:8080/"
        },
        "id": "sILSOOMt5bqE",
        "outputId": "0ecc1d9a-78df-4c67-bb92-59f147e2aa21"
      },
      "execution_count": null,
      "outputs": [
        {
          "output_type": "stream",
          "name": "stdout",
          "text": [
            "              Date Location  ...  Humidity9amCat  Humidity3pmCat\n",
            "0       2008-12-01   Albury  ...           1.>60          0.<=60\n",
            "1       2008-12-02   Albury  ...          0.<=60          0.<=60\n",
            "2       2008-12-03   Albury  ...          0.<=60          0.<=60\n",
            "3       2008-12-04   Albury  ...          0.<=60          0.<=60\n",
            "4       2008-12-05   Albury  ...           1.>60          0.<=60\n",
            "...            ...      ...  ...             ...             ...\n",
            "145454  2017-06-20    Uluru  ...          0.<=60          0.<=60\n",
            "145455  2017-06-21    Uluru  ...          0.<=60          0.<=60\n",
            "145456  2017-06-22    Uluru  ...          0.<=60          0.<=60\n",
            "145457  2017-06-23    Uluru  ...          0.<=60          0.<=60\n",
            "145458  2017-06-24    Uluru  ...          0.<=60          0.<=60\n",
            "\n",
            "[142193 rows x 26 columns]\n"
          ]
        },
        {
          "output_type": "stream",
          "name": "stderr",
          "text": [
            "<ipython-input-11-56c6848cebc0>:7: FutureWarning: Dropping of nuisance columns in DataFrame reductions (with 'numeric_only=None') is deprecated; in a future version this will raise TypeError.  Select only valid columns before calling the reduction.\n",
            "  df=df.fillna(df.mean())\n"
          ]
        }
      ]
    },
    {
      "cell_type": "code",
      "source": [
        "def probs(data, child, parent1=None, parent2=None):\n",
        "  if parent1==None:\n",
        "    prob=pd.crosstab(data[child], 'Empty', margins=False, normalize='columns').sort_index().to_numpy().reshape(-1).tolist()\n",
        "  elif parent1 != None:\n",
        "    if parent2==None:\n",
        "      prob=pd.crosstab(data[parent1], data[child], margins=False, normalize='index').sort_index().to_numpy().reshape(-1).tolist()\n",
        "    else:\n",
        "      prob=pd.crosstab([data[parent1], data[parent2]],data[child], margins=False, normalize='index').sort_index().to_numpy().reshape(-1).tolist()\n",
        "  else: print(\"Error in Probability Frequency Calculations\")\n",
        "  return prob"
      ],
      "metadata": {
        "id": "c7cZKGZh8aqV"
      },
      "execution_count": null,
      "outputs": []
    },
    {
      "cell_type": "code",
      "source": [
        "H9am=BbnNode(Variable(0, 'H9am', ['<=60','>60']),probs(df, child='Humidity9amCat'))\n",
        "H3pm=BbnNode(Variable(1, 'H3pm', ['<=60','>60']),probs(df, child='Humidity3pmCat', parent1='Humidity9amCat'))\n",
        "W=BbnNode(Variable(2, 'W', ['<=40', '40-50','>50']),probs(df, child='WindGustSpeedCat'))\n",
        "RT=BbnNode(Variable(3, 'RT', ['No','Yes']),probs(df, child='RainTomorrow',parent1='Humidity3pmCat',parent2='WindGustSpeedCat'))"
      ],
      "metadata": {
        "id": "IWk5grgyCTnu"
      },
      "execution_count": null,
      "outputs": []
    },
    {
      "cell_type": "code",
      "source": [
        "bbn = Bbn() \\\n",
        "      .add_node(H9am) \\\n",
        "      .add_node(H3pm) \\\n",
        "      .add_node(W) \\\n",
        "      .add_node(RT) \\\n",
        "      .add_edge(Edge(H9am,H3pm,EdgeType.DIRECTED)) \\\n",
        "      .add_edge(Edge(H3pm,RT,EdgeType.DIRECTED)) \\\n",
        "      .add_edge(Edge(W,RT,EdgeType.DIRECTED)) \n",
        "join_tree = InferenceController.apply(bbn)\n",
        "pos={0: (-1,2), 1: (-1,0.5), 2: (1,0.5), 3: (0,-1)}\n",
        "\n",
        "options = {\n",
        "    \"font_size\": 16,\n",
        "    \"node_size\": 4000,\n",
        "    \"node_color\":\"white\",\n",
        "    \"edgecolors\":\"black\",\n",
        "    \"edge_color\":\"red\",\n",
        "    \"linewidths\": 5,\n",
        "    \"width\":5,\n",
        "}\n",
        "\n",
        "n,d=bbn.to_nx_graph()\n",
        "nx.draw(n,with_labels=True, labels=d,pos=pos,**options)\n",
        "ax=plt.gca()\n",
        "ax.margins(0.10)\n",
        "plt.axis(\"off\")\n",
        "plt.show()"
      ],
      "metadata": {
        "colab": {
          "base_uri": "https://localhost:8080/",
          "height": 319
        },
        "id": "mxTphYbXDd-4",
        "outputId": "ff751f2d-3d38-4dd3-a9c8-40514141e506"
      },
      "execution_count": null,
      "outputs": [
        {
          "output_type": "display_data",
          "data": {
            "text/plain": [
              "<Figure size 432x288 with 1 Axes>"
            ],
            "image/png": "[encoded data removed]"
          },
          "metadata": {}
        }
      ]
    },
    {
      "cell_type": "code",
      "source": [],
      "metadata": {
        "id": "EpW_IzlwGDbR"
      },
      "execution_count": null,
      "outputs": []
    }
  ]
}